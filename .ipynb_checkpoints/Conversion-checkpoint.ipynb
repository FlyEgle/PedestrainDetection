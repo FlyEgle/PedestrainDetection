{
 "cells": [
  {
   "cell_type": "markdown",
   "metadata": {},
   "source": [
    "## Conversion of the old labels for YOLO"
   ]
  },
  {
   "cell_type": "code",
   "execution_count": null,
   "metadata": {},
   "outputs": [],
   "source": [
    "import os\n",
    "import glob\n",
    "from collections import defaultdict"
   ]
  },
  {
   "cell_type": "code",
   "execution_count": 66,
   "metadata": {},
   "outputs": [],
   "source": [
    "def read_lines(f):\n",
    "    for line in f:\n",
    "        if 'Image size (X x Y x C) :' in line:\n",
    "            words = line.split()\n",
    "            iw = int(words[8])\n",
    "            ih = int(words[10])\n",
    "        if 'Bounding box for object' in line:\n",
    "            words = line.split()\n",
    "            xmin = int(words[12][1:-1])\n",
    "            ymin = int(words[13][:-1])\n",
    "            xmax = int(words[15][1:-1])\n",
    "            ymax = int(words[16][:-1])\n",
    "            x = 1.0*(xmax+xmin)/2\n",
    "            y = 1.0*(ymax+ymin)/2\n",
    "            width = xmax-xmin\n",
    "            heigth = ymax-ymin\n",
    "            an['width'] = 1.0*width/iw\n",
    "            an['height'] = 1.0*heigth/ih\n",
    "            an['cx'] = 1.0*x/iw\n",
    "            an['cy'] = 1.0*y/ih\n",
    "            newline = '0 '+str(an['cx'])+' '+str(an['cy']) + ' '+str(an['width']) + ' '+str(an['height'])\n",
    "            with open(name,'a') as w:\n",
    "                w.write(newline+'\\n')"
   ]
  },
  {
   "cell_type": "code",
   "execution_count": 67,
   "metadata": {},
   "outputs": [],
   "source": [
    "# Training\n",
    "for anno_fn in sorted(glob.glob('Train/annotations/*.txt')):\n",
    "    iw = 0\n",
    "    ih = 0\n",
    "    name = ''\n",
    "    an = {}\n",
    "    with open(anno_fn,'r',encoding='latin-1') as f:\n",
    "        name = 'Train/labels/' + anno_fn[18:-4]+'.txt'\n",
    "        read_lines(f)"
   ]
  },
  {
   "cell_type": "code",
   "execution_count": null,
   "metadata": {},
   "outputs": [],
   "source": [
    "## Generation of the Train.txt for YOLO\n",
    "for train in sorted(glob.glob('/home/gianfranco/Documents/darknet/data/INRIAPerson/Train/pos/*')):\n",
    "    with open('train.txt','a') as w:\n",
    "                    w.write(train+'\\n')"
   ]
  },
  {
   "cell_type": "code",
   "execution_count": 68,
   "metadata": {},
   "outputs": [],
   "source": [
    "# Test\n",
    "for anno_fn in sorted(glob.glob('Test/annotations/*.txt')):\n",
    "    iw = 0\n",
    "    ih = 0\n",
    "    name = ''\n",
    "    an = {}\n",
    "    with open(anno_fn,'r',encoding='latin-1') as f:\n",
    "        name = 'Test/labels/' + anno_fn[17:-4]+'.txt'\n",
    "        read_lines(f)"
   ]
  },
  {
   "cell_type": "code",
   "execution_count": null,
   "metadata": {},
   "outputs": [],
   "source": [
    "## Generation of the Train.txt for YOLO\n",
    "import glob\n",
    "for test in sorted(glob.glob('/home/gianfranco/Documents/darknet/data/INRIAPerson/Test/pos/*')):\n",
    "    with open('test.txt','a') as w:\n",
    "                    w.write(test+'\\n')"
   ]
  }
 ],
 "metadata": {
  "kernelspec": {
   "display_name": "Python 3",
   "language": "python",
   "name": "python3"
  },
  "language_info": {
   "codemirror_mode": {
    "name": "ipython",
    "version": 3
   },
   "file_extension": ".py",
   "mimetype": "text/x-python",
   "name": "python",
   "nbconvert_exporter": "python",
   "pygments_lexer": "ipython3",
   "version": "3.5.3"
  }
 },
 "nbformat": 4,
 "nbformat_minor": 2
}
